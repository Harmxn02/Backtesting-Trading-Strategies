{
 "cells": [
  {
   "cell_type": "code",
   "execution_count": null,
   "metadata": {},
   "outputs": [],
   "source": [
    "\n",
    "#* There is an easier method, but you have to install Anaconda for it\n",
    "#* https://www.youtube.com/watch?v=f2gxz8JbrlQ&list=PLKDzNjrRq3osuM0kqjvvAba01dXbgoOZQ&index=2&t=228s\n",
    "\n",
    "from backtesting import Backtest, Strategy\n",
    "from backtesting.lib import crossover\n",
    "from backtesting.test import GOOG\n",
    "import numpy as np\n",
    "import matplotlib.pyplot as plt"
   ]
  },
  {
   "cell_type": "code",
   "execution_count": null,
   "metadata": {},
   "outputs": [],
   "source": [
    "class MACD_Strategy(Strategy):\n",
    "    def init(self):\n",
    "        price = self.data.Close\n",
    "        self.short_window = 12\n",
    "        self.long_window = 26\n",
    "        self.signal_window = 9\n",
    "\n",
    "        # Calculate MACD components\n",
    "        self.macd_line = self.calculate_rolling_mean(price, window=self.short_window) \\\n",
    "                         - self.calculate_rolling_mean(price, window=self.long_window)\n",
    "        self.signal_line = self.calculate_rolling_mean(self.macd_line, window=self.signal_window)\n",
    "        self.macd_histogram = self.macd_line - self.signal_line\n",
    "\n",
    "    def calculate_rolling_mean(self, series, window):\n",
    "        rolling_means = []\n",
    "        for i in range(len(series)):\n",
    "            start_index = max(0, i - window + 1)\n",
    "            current_mean = np.mean(series[start_index:i + 1])\n",
    "            rolling_means.append(current_mean)\n",
    "        return np.array(rolling_means)\n",
    "\n",
    "    def next(self):\n",
    "        if crossover(self.macd_line, self.signal_line):\n",
    "            self.buy()\n",
    "        elif crossover(self.signal_line, self.macd_line):\n",
    "            self.sell()\n"
   ]
  },
  {
   "cell_type": "code",
   "execution_count": null,
   "metadata": {},
   "outputs": [],
   "source": [
    "bt = Backtest(GOOG, MACD_Strategy, commission=.002, exclusive_orders=True)\n",
    "bt.run()\n",
    "bt.plot()"
   ]
  }
 ],
 "metadata": {
  "kernelspec": {
   "display_name": "Python 3",
   "language": "python",
   "name": "python3"
  },
  "language_info": {
   "codemirror_mode": {
    "name": "ipython",
    "version": 3
   },
   "file_extension": ".py",
   "mimetype": "text/x-python",
   "name": "python",
   "nbconvert_exporter": "python",
   "pygments_lexer": "ipython3",
   "version": "3.11.5"
  }
 },
 "nbformat": 4,
 "nbformat_minor": 2
}
